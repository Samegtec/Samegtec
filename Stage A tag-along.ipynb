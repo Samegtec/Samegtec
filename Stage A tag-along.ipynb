{
  "nbformat": 4,
  "nbformat_minor": 0,
  "metadata": {
    "colab": {
      "name": "Untitled0.ipynb",
      "provenance": [],
      "authorship_tag": "ABX9TyPloTmrBg+QxzMXxUmyscmD",
      "include_colab_link": true
    },
    "kernelspec": {
      "name": "python3",
      "display_name": "Python 3"
    },
    "language_info": {
      "name": "python"
    }
  },
  "cells": [
    {
      "cell_type": "markdown",
      "metadata": {
        "id": "view-in-github",
        "colab_type": "text"
      },
      "source": [
        "<a href=\"https://colab.research.google.com/github/Samegtec/Samegtec/blob/main/Stage%20A%20tag-along.ipynb\" target=\"_parent\"><img src=\"https://colab.research.google.com/assets/colab-badge.svg\" alt=\"Open In Colab\"/></a>"
      ]
    },
    {
      "cell_type": "code",
      "source": [
        "import numpy as np\n",
        "\n",
        "home = np.array(['kitchen', 'dinning', 'bathroom', 'Parlour'])\n",
        "print (home)"
      ],
      "metadata": {
        "id": "sebCHS9dbv8-",
        "colab": {
          "base_uri": "https://localhost:8080/"
        },
        "outputId": "536cf244-97c5-4afb-9f9d-fcf5167ea87f"
      },
      "execution_count": 1,
      "outputs": [
        {
          "output_type": "stream",
          "name": "stdout",
          "text": [
            "['kitchen' 'dinning' 'bathroom' 'Parlour']\n"
          ]
        }
      ]
    },
    {
      "cell_type": "code",
      "execution_count": 7,
      "metadata": {
        "id": "5WqhSVjFaNB9",
        "colab": {
          "base_uri": "https://localhost:8080/"
        },
        "outputId": "ceb1b8e3-f426-4d07-d9ed-bd4d75b5976b"
      },
      "outputs": [
        {
          "output_type": "execute_result",
          "data": {
            "text/plain": [
              "numpy.ndarray"
            ]
          },
          "metadata": {},
          "execution_count": 7
        }
      ],
      "source": [
        ""
      ]
    }
  ]
}