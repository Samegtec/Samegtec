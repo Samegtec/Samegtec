{
 "cells": [
  {
   "cell_type": "markdown",
   "id": "6398b390",
   "metadata": {
    "papermill": {
     "duration": 0.005389,
     "end_time": "2022-09-20T22:48:47.890848",
     "exception": false,
     "start_time": "2022-09-20T22:48:47.885459",
     "status": "completed"
    },
    "tags": []
   },
   "source": []
  },
  {
   "cell_type": "code",
   "execution_count": 1,
   "id": "c1d70c9a",
   "metadata": {
    "execution": {
     "iopub.execute_input": "2022-09-20T22:48:47.900619Z",
     "iopub.status.busy": "2022-09-20T22:48:47.899988Z",
     "iopub.status.idle": "2022-09-20T22:48:54.387924Z",
     "shell.execute_reply": "2022-09-20T22:48:54.386626Z"
    },
    "papermill": {
     "duration": 6.496246,
     "end_time": "2022-09-20T22:48:54.390917",
     "exception": false,
     "start_time": "2022-09-20T22:48:47.894671",
     "status": "completed"
    },
    "tags": []
   },
   "outputs": [],
   "source": [
    "import numpy as np\n",
    "import pandas as pd\n",
    "import matplotlib.pyplot as plt\n",
    "%matplotlib inline\n",
    "import tensorflow as tf\n",
    "from tensorflow import keras\n",
    "from keras.models import Sequential\n",
    "from keras.layers import Dense, Dropout, Flatten\n",
    "import matplotlib.image as mpimg"
   ]
  },
  {
   "cell_type": "code",
   "execution_count": 2,
   "id": "c590e1d8",
   "metadata": {
    "execution": {
     "iopub.execute_input": "2022-09-20T22:48:54.399598Z",
     "iopub.status.busy": "2022-09-20T22:48:54.398936Z",
     "iopub.status.idle": "2022-09-20T22:48:54.492574Z",
     "shell.execute_reply": "2022-09-20T22:48:54.491206Z"
    },
    "papermill": {
     "duration": 0.101077,
     "end_time": "2022-09-20T22:48:54.495385",
     "exception": false,
     "start_time": "2022-09-20T22:48:54.394308",
     "status": "completed"
    },
    "tags": []
   },
   "outputs": [
    {
     "data": {
      "text/html": [
       "<div>\n",
       "<style scoped>\n",
       "    .dataframe tbody tr th:only-of-type {\n",
       "        vertical-align: middle;\n",
       "    }\n",
       "\n",
       "    .dataframe tbody tr th {\n",
       "        vertical-align: top;\n",
       "    }\n",
       "\n",
       "    .dataframe thead th {\n",
       "        text-align: right;\n",
       "    }\n",
       "</style>\n",
       "<table border=\"1\" class=\"dataframe\">\n",
       "  <thead>\n",
       "    <tr style=\"text-align: right;\">\n",
       "      <th></th>\n",
       "      <th>image_name</th>\n",
       "      <th>tags</th>\n",
       "    </tr>\n",
       "  </thead>\n",
       "  <tbody>\n",
       "    <tr>\n",
       "      <th>0</th>\n",
       "      <td>../input/planets-dataset/planet/planet/train-jpg</td>\n",
       "      <td>haze primary</td>\n",
       "    </tr>\n",
       "    <tr>\n",
       "      <th>1</th>\n",
       "      <td>../input/planets-dataset/planet/planet/train-jpg</td>\n",
       "      <td>agriculture clear primary water</td>\n",
       "    </tr>\n",
       "    <tr>\n",
       "      <th>2</th>\n",
       "      <td>../input/planets-dataset/planet/planet/train-jpg</td>\n",
       "      <td>clear primary</td>\n",
       "    </tr>\n",
       "    <tr>\n",
       "      <th>3</th>\n",
       "      <td>../input/planets-dataset/planet/planet/train-jpg</td>\n",
       "      <td>clear primary</td>\n",
       "    </tr>\n",
       "    <tr>\n",
       "      <th>4</th>\n",
       "      <td>../input/planets-dataset/planet/planet/train-jpg</td>\n",
       "      <td>agriculture clear habitation primary road</td>\n",
       "    </tr>\n",
       "    <tr>\n",
       "      <th>...</th>\n",
       "      <td>...</td>\n",
       "      <td>...</td>\n",
       "    </tr>\n",
       "    <tr>\n",
       "      <th>40474</th>\n",
       "      <td>../input/planets-dataset/planet/planet/train-jpg</td>\n",
       "      <td>clear primary</td>\n",
       "    </tr>\n",
       "    <tr>\n",
       "      <th>40475</th>\n",
       "      <td>../input/planets-dataset/planet/planet/train-jpg</td>\n",
       "      <td>cloudy</td>\n",
       "    </tr>\n",
       "    <tr>\n",
       "      <th>40476</th>\n",
       "      <td>../input/planets-dataset/planet/planet/train-jpg</td>\n",
       "      <td>agriculture clear primary</td>\n",
       "    </tr>\n",
       "    <tr>\n",
       "      <th>40477</th>\n",
       "      <td>../input/planets-dataset/planet/planet/train-jpg</td>\n",
       "      <td>agriculture clear primary road</td>\n",
       "    </tr>\n",
       "    <tr>\n",
       "      <th>40478</th>\n",
       "      <td>../input/planets-dataset/planet/planet/train-jpg</td>\n",
       "      <td>agriculture cultivation partly_cloudy primary</td>\n",
       "    </tr>\n",
       "  </tbody>\n",
       "</table>\n",
       "<p>40479 rows × 2 columns</p>\n",
       "</div>"
      ],
      "text/plain": [
       "                                             image_name  \\\n",
       "0      ../input/planets-dataset/planet/planet/train-jpg   \n",
       "1      ../input/planets-dataset/planet/planet/train-jpg   \n",
       "2      ../input/planets-dataset/planet/planet/train-jpg   \n",
       "3      ../input/planets-dataset/planet/planet/train-jpg   \n",
       "4      ../input/planets-dataset/planet/planet/train-jpg   \n",
       "...                                                 ...   \n",
       "40474  ../input/planets-dataset/planet/planet/train-jpg   \n",
       "40475  ../input/planets-dataset/planet/planet/train-jpg   \n",
       "40476  ../input/planets-dataset/planet/planet/train-jpg   \n",
       "40477  ../input/planets-dataset/planet/planet/train-jpg   \n",
       "40478  ../input/planets-dataset/planet/planet/train-jpg   \n",
       "\n",
       "                                                tags  \n",
       "0                                       haze primary  \n",
       "1                    agriculture clear primary water  \n",
       "2                                      clear primary  \n",
       "3                                      clear primary  \n",
       "4          agriculture clear habitation primary road  \n",
       "...                                              ...  \n",
       "40474                                  clear primary  \n",
       "40475                                         cloudy  \n",
       "40476                      agriculture clear primary  \n",
       "40477                 agriculture clear primary road  \n",
       "40478  agriculture cultivation partly_cloudy primary  \n",
       "\n",
       "[40479 rows x 2 columns]"
      ]
     },
     "execution_count": 2,
     "metadata": {},
     "output_type": "execute_result"
    }
   ],
   "source": [
    "df_train = pd.read_csv('../input/planets-dataset/planet/planet/train_classes.csv')\n",
    "df_train['image_name'] = '../input/planets-dataset/planet/planet/train-jpg'\n",
    "df_train"
   ]
  },
  {
   "cell_type": "code",
   "execution_count": 3,
   "id": "d975a2f7",
   "metadata": {
    "execution": {
     "iopub.execute_input": "2022-09-20T22:48:54.504698Z",
     "iopub.status.busy": "2022-09-20T22:48:54.504277Z",
     "iopub.status.idle": "2022-09-20T22:48:54.810282Z",
     "shell.execute_reply": "2022-09-20T22:48:54.809160Z"
    },
    "papermill": {
     "duration": 0.313967,
     "end_time": "2022-09-20T22:48:54.813251",
     "exception": false,
     "start_time": "2022-09-20T22:48:54.499284",
     "status": "completed"
    },
    "tags": []
   },
   "outputs": [],
   "source": [
    "df_test = pd.read_csv('../input/planets-dataset/planet/planet/sample_submission.csv')\n",
    "df_test['image_name'] = '../input/planets-dataset/planet/planet/test-jpg'\n",
    "df_test['tags'] = df_train['tags'].apply(lambda x: x.split(' '))"
   ]
  },
  {
   "cell_type": "code",
   "execution_count": 4,
   "id": "adefeec4",
   "metadata": {
    "execution": {
     "iopub.execute_input": "2022-09-20T22:48:54.822881Z",
     "iopub.status.busy": "2022-09-20T22:48:54.822034Z",
     "iopub.status.idle": "2022-09-20T22:49:11.991453Z",
     "shell.execute_reply": "2022-09-20T22:49:11.990343Z"
    },
    "papermill": {
     "duration": 17.176981,
     "end_time": "2022-09-20T22:49:11.994035",
     "exception": false,
     "start_time": "2022-09-20T22:48:54.817054",
     "status": "completed"
    },
    "tags": []
   },
   "outputs": [],
   "source": [
    "df_train['tags2'] = df_train['tags'].apply(lambda x: x.split(' '))\n",
    "labels_list = sum(list(df_train['tags2'].values), [])\n",
    "labels = set(labels_list)\n",
    "\n",
    "label_map = {l: i for i, l in enumerate(labels)}\n",
    "inv_label_map = {i: l for l, i in label_map.items()}"
   ]
  },
  {
   "cell_type": "code",
   "execution_count": 5,
   "id": "4ba22e65",
   "metadata": {
    "execution": {
     "iopub.execute_input": "2022-09-20T22:49:12.005377Z",
     "iopub.status.busy": "2022-09-20T22:49:12.004350Z",
     "iopub.status.idle": "2022-09-20T22:49:12.012782Z",
     "shell.execute_reply": "2022-09-20T22:49:12.011480Z"
    },
    "papermill": {
     "duration": 0.015651,
     "end_time": "2022-09-20T22:49:12.015077",
     "exception": false,
     "start_time": "2022-09-20T22:49:11.999426",
     "status": "completed"
    },
    "tags": []
   },
   "outputs": [
    {
     "data": {
      "text/plain": [
       "{'road': 0,\n",
       " 'conventional_mine': 1,\n",
       " 'blow_down': 2,\n",
       " 'blooming': 3,\n",
       " 'water': 4,\n",
       " 'cultivation': 5,\n",
       " 'bare_ground': 6,\n",
       " 'partly_cloudy': 7,\n",
       " 'primary': 8,\n",
       " 'habitation': 9,\n",
       " 'cloudy': 10,\n",
       " 'haze': 11,\n",
       " 'selective_logging': 12,\n",
       " 'slash_burn': 13,\n",
       " 'clear': 14,\n",
       " 'agriculture': 15,\n",
       " 'artisinal_mine': 16}"
      ]
     },
     "execution_count": 5,
     "metadata": {},
     "output_type": "execute_result"
    }
   ],
   "source": [
    "label_map"
   ]
  },
  {
   "cell_type": "code",
   "execution_count": 6,
   "id": "6afafc39",
   "metadata": {
    "execution": {
     "iopub.execute_input": "2022-09-20T22:49:12.024874Z",
     "iopub.status.busy": "2022-09-20T22:49:12.024444Z",
     "iopub.status.idle": "2022-09-20T22:49:13.233827Z",
     "shell.execute_reply": "2022-09-20T22:49:13.232631Z"
    },
    "papermill": {
     "duration": 1.217321,
     "end_time": "2022-09-20T22:49:13.236523",
     "exception": false,
     "start_time": "2022-09-20T22:49:12.019202",
     "status": "completed"
    },
    "tags": []
   },
   "outputs": [
    {
     "name": "stdout",
     "output_type": "stream",
     "text": [
      "Populating the interactive namespace from numpy and matplotlib\n"
     ]
    },
    {
     "data": {
      "text/plain": [
       "<AxesSubplot:>"
      ]
     },
     "execution_count": 6,
     "metadata": {},
     "output_type": "execute_result"
    },
    {
     "data": {
      "image/png": "[encoded data removed]",
      "text/plain": [
       "<Figure size 1152x576 with 1 Axes>"
      ]
     },
     "metadata": {
      "needs_background": "light"
     },
     "output_type": "display_data"
    }
   ],
   "source": [
    "%pylab inline\n",
    "import seaborn as sns\n",
    "\n",
    "labels_s = pd.Series(labels_list).value_counts() # To sort them by count\n",
    "fig, ax = plt.subplots(figsize=(16, 8))\n",
    "sns.barplot(x=labels_s, y=labels_s.index, orient='h')"
   ]
  },
  {
   "cell_type": "code",
   "execution_count": 7,
   "id": "a85b57cd",
   "metadata": {
    "execution": {
     "iopub.execute_input": "2022-09-20T22:49:13.247191Z",
     "iopub.status.busy": "2022-09-20T22:49:13.246759Z",
     "iopub.status.idle": "2022-09-20T22:49:13.461165Z",
     "shell.execute_reply": "2022-09-20T22:49:13.459927Z"
    },
    "papermill": {
     "duration": 0.223033,
     "end_time": "2022-09-20T22:49:13.464122",
     "exception": false,
     "start_time": "2022-09-20T22:49:13.241089",
     "status": "completed"
    },
    "tags": []
   },
   "outputs": [],
   "source": [
    "from sklearn.preprocessing import MultiLabelBinarizer\n",
    "label_encoder = MultiLabelBinarizer()\n",
    "Y = label_encoder.fit_transform(df_train['tags2']).astype(float)"
   ]
  },
  {
   "cell_type": "code",
   "execution_count": 8,
   "id": "73a9d625",
   "metadata": {
    "execution": {
     "iopub.execute_input": "2022-09-20T22:49:13.475277Z",
     "iopub.status.busy": "2022-09-20T22:49:13.473996Z",
     "iopub.status.idle": "2022-09-20T22:49:13.487817Z",
     "shell.execute_reply": "2022-09-20T22:49:13.486608Z"
    },
    "papermill": {
     "duration": 0.021928,
     "end_time": "2022-09-20T22:49:13.490346",
     "exception": false,
     "start_time": "2022-09-20T22:49:13.468418",
     "status": "completed"
    },
    "tags": []
   },
   "outputs": [],
   "source": [
    "def train(model, device, train_loader, optimizer, criterion, epoch):\n",
    "    model.train() # 转为训练，drop起作用\n",
    "    for batch_idx, (data, target) in enumerate(train_loader):\n",
    "        data, target = data.to(device), target.to(device)\n",
    "        optimizer.zero_grad() # 清空梯度\n",
    "        output = model(data) # 正向传播\n",
    "        loss = criterion(output, target) # 计算损失\n",
    "        loss.backward() # 梯度计算\n",
    "        optimizer.step() # 参数更新\n",
    "        if batch_idx % 10 == 0:\n",
    "            print('Train Epoch: {} [{}/{} ({:.0f}%)]\\tLoss: {:.6f}'.format(\n",
    "                epoch, batch_idx * len(data), len(train_loader.dataset),\n",
    "                100. * batch_idx / len(train_loader), loss.item()))\n",
    "            \n",
    "def test(model, device, test_loader, criterion):\n",
    "    model.eval() \n",
    "    model_predict, model_target = [], []\n",
    "    test_loss = 0\n",
    "    with torch.no_grad():\n",
    "        for data, target in tqdm_notebook(test_loader):\n",
    "            data, target = data.to(device), target.to(device)\n",
    "            output = model(data)\n",
    "            \n",
    "            model_predict.append(output.sigmoid().data.cpu().numpy())\n",
    "            model_target.append(target.data.cpu().numpy())\n",
    "            \n",
    "            test_loss += criterion(output, target).item()  # sum up batch loss\n",
    "\n",
    "    test_loss /= len(test_loader.dataset)\n",
    "    f2_socre = []\n",
    "    model_predict = np.vstack(model_predict)\n",
    "    model_target = np.vstack(model_target)\n",
    "    \n",
    "    for idx in range(len(model_predict)):\n",
    "        f2_socre.append(fbeta_score(model_predict[idx,:]>0.5, model_target[idx,:], beta=2))\n",
    "    f2_socre = np.mean(f2_socre)\n",
    "    \n",
    "    print('\\nTest set: Average loss: {:.4f} F2 Score: {:.4f}\\n'.format(test_loss, f2_socre))\n",
    "    \n",
    "    return test_loss, f2_socre, model_predict"
   ]
  },
  {
   "cell_type": "code",
   "execution_count": null,
   "id": "2a96a88e",
   "metadata": {
    "papermill": {
     "duration": 0.00388,
     "end_time": "2022-09-20T22:49:13.498730",
     "exception": false,
     "start_time": "2022-09-20T22:49:13.494850",
     "status": "completed"
    },
    "tags": []
   },
   "outputs": [],
   "source": []
  }
 ],
 "metadata": {
  "kernelspec": {
   "display_name": "Python 3",
   "language": "python",
   "name": "python3"
  },
  "language_info": {
   "codemirror_mode": {
    "name": "ipython",
    "version": 3
   },
   "file_extension": ".py",
   "mimetype": "text/x-python",
   "name": "python",
   "nbconvert_exporter": "python",
   "pygments_lexer": "ipython3",
   "version": "3.7.12"
  },
  "papermill": {
   "default_parameters": {},
   "duration": 38.161216,
   "end_time": "2022-09-20T22:49:16.899312",
   "environment_variables": {},
   "exception": null,
   "input_path": "__notebook__.ipynb",
   "output_path": "__notebook__.ipynb",
   "parameters": {},
   "start_time": "2022-09-20T22:48:38.738096",
   "version": "2.3.4"
  }
 },
 "nbformat": 4,
 "nbformat_minor": 5
}
